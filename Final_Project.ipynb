{
  "nbformat": 4,
  "nbformat_minor": 0,
  "metadata": {
    "colab": {
      "name": "Final Project.ipynb",
      "provenance": [],
      "collapsed_sections": []
    },
    "kernelspec": {
      "name": "python3",
      "display_name": "Python 3"
    },
    "language_info": {
      "name": "python"
    }
  },
  "cells": [
    {
      "cell_type": "code",
      "metadata": {
        "id": "AF-JAcFyXXhO"
      },
      "source": [
        "import pandas as pd\n",
        "import seaborn as sns\n",
        "import matplotlib.pyplot as plt\n",
        "import numpy as np\n",
        "import math\n",
        "import os\n",
        "from sklearn.ensemble import RandomForestClassifier\n",
        "from sklearn.datasets import make_classification\n",
        "from sklearn.tree import DecisionTreeClassifier\n",
        "from sklearn.preprocessing import LabelEncoder\n",
        "from sklearn.model_selection import train_test_split\n",
        "from sklearn.metrics import classification_report\n",
        "from sklearn.neighbors import KNeighborsClassifier\n",
        "from sklearn.metrics import accuracy_score"
      ],
      "execution_count": null,
      "outputs": []
    },
    {
      "cell_type": "code",
      "metadata": {
        "id": "pzSUxEsg1U79"
      },
      "source": [
        "! pip install -q kaggle"
      ],
      "execution_count": null,
      "outputs": []
    },
    {
      "cell_type": "code",
      "metadata": {
        "id": "eI6ZpUX32RsV"
      },
      "source": [
        "! cp kaggle.json ~/.kaggle/"
      ],
      "execution_count": null,
      "outputs": []
    },
    {
      "cell_type": "code",
      "metadata": {
        "id": "DGvkIk5F2UPf"
      },
      "source": [
        "! chmod 600 ~/.kaggle/kaggle.json"
      ],
      "execution_count": null,
      "outputs": []
    },
    {
      "cell_type": "code",
      "metadata": {
        "colab": {
          "base_uri": "https://localhost:8080/"
        },
        "id": "hIaUnKrG4dv0",
        "outputId": "b45a0a8d-a39a-413b-99e4-5748f0e2aaa6"
      },
      "source": [
        "! kaggle datasets list"
      ],
      "execution_count": null,
      "outputs": [
        {
          "output_type": "stream",
          "name": "stdout",
          "text": [
            "ref                                                         title                                              size  lastUpdated          downloadCount  voteCount  usabilityRating  \n",
            "----------------------------------------------------------  ------------------------------------------------  -----  -------------------  -------------  ---------  ---------------  \n",
            "gpreda/reddit-vaccine-myths                                 Reddit Vaccine Myths                              237KB  2021-11-02 21:56:08          15036       1199  1.0              \n",
            "crowww/a-large-scale-fish-dataset                           A Large Scale Fish Dataset                          3GB  2021-04-28 17:03:01           9117        668  0.9375           \n",
            "imsparsh/musicnet-dataset                                   MusicNet Dataset                                   22GB  2021-02-18 14:12:19           4057        285  1.0              \n",
            "dhruvildave/wikibooks-dataset                               Wikibooks Dataset                                   2GB  2021-10-22 10:48:21           3356        255  1.0              \n",
            "promptcloud/careerbuilder-job-listing-2020                  Careerbuilder Job Listing 2020                     42MB  2021-03-05 06:59:52           2483         83  1.0              \n",
            "fatiimaezzahra/famous-iconic-women                          Famous Iconic Women                               838MB  2021-02-28 14:56:00           1752        128  0.75             \n",
            "nickuzmenkov/nih-chest-xrays-tfrecords                      NIH Chest X-rays TFRecords                         11GB  2021-03-09 04:49:23           1495         83  0.9411765        \n",
            "alsgroup/end-als                                            End ALS Kaggle Challenge                           12GB  2021-04-08 12:16:37           1053        149  0.9375           \n",
            "mathurinache/twitter-edge-nodes                             Twitter Edge Nodes                                342MB  2021-03-08 06:43:04           1210        101  1.0              \n",
            "simiotic/github-code-snippets                               GitHub Code Snippets                                7GB  2021-03-03 11:34:39            445         76  1.0              \n",
            "mathurinache/the-lj-speech-dataset                          The LJ Speech Dataset                               3GB  2021-02-15 09:19:54            444         55  1.0              \n",
            "imsparsh/accentdb-core-extended                             AccentDB - Core & Extended                          6GB  2021-02-17 14:22:54            171         36  0.875            \n",
            "coloradokb/dandelionimages                                  DandelionImages                                     4GB  2021-02-19 20:03:47            989         44  0.75             \n",
            "stuartjames/lights                                          LightS: Light Specularity Dataset                  18GB  2021-02-18 14:32:26            187         39  0.6875           \n",
            "landrykezebou/lvzhdr-tone-mapping-benchmark-dataset-tmonet  LVZ-HDR Tone Mapping Benchmark Dataset (TMO-Net)   24GB  2021-03-01 05:03:40            224         31  0.75             \n",
            "nickuzmenkov/ranzcr-clip-kfold-tfrecords                    RANZCR CLiP KFold TFRecords                         2GB  2021-02-21 13:29:51            146         25  0.875            \n",
            "datasnaek/youtube-new                                       Trending YouTube Video Statistics                 201MB  2019-06-03 00:56:47         156481       4250  0.7941176        \n",
            "zynicide/wine-reviews                                       Wine Reviews                                       51MB  2017-11-27 17:08:04         147442       3181  0.7941176        \n",
            "residentmario/ramen-ratings                                 Ramen Ratings                                      40KB  2018-01-11 16:04:39          29190        699  0.7058824        \n",
            "datasnaek/chess                                             Chess Game Dataset (Lichess)                        3MB  2017-09-04 03:09:09          24231        875  0.8235294        \n"
          ]
        }
      ]
    },
    {
      "cell_type": "code",
      "metadata": {
        "colab": {
          "base_uri": "https://localhost:8080/"
        },
        "id": "y85--8OL6yqr",
        "outputId": "0d64a97c-5026-4bf2-d157-54d0fffc0d37"
      },
      "source": [
        "!pip install --upgrade --force-reinstall --no-deps kaggle"
      ],
      "execution_count": null,
      "outputs": [
        {
          "output_type": "stream",
          "name": "stdout",
          "text": [
            "Collecting kaggle\n",
            "  Using cached kaggle-1.5.12-py3-none-any.whl\n",
            "Installing collected packages: kaggle\n",
            "  Attempting uninstall: kaggle\n",
            "    Found existing installation: kaggle 1.5.12\n",
            "    Uninstalling kaggle-1.5.12:\n",
            "      Successfully uninstalled kaggle-1.5.12\n",
            "Successfully installed kaggle-1.5.12\n"
          ]
        }
      ]
    },
    {
      "cell_type": "code",
      "metadata": {
        "colab": {
          "base_uri": "https://localhost:8080/"
        },
        "id": "CG6DcpqK4VuD",
        "outputId": "16aee87e-e4c4-4914-a083-d89baa98e56c"
      },
      "source": [
        "! kaggle competitions download -c 'sf-crime'"
      ],
      "execution_count": null,
      "outputs": [
        {
          "output_type": "stream",
          "name": "stdout",
          "text": [
            "sf-crime.zip: Skipping, found more recently modified local copy (use --force to force download)\n"
          ]
        }
      ]
    },
    {
      "cell_type": "code",
      "metadata": {
        "colab": {
          "base_uri": "https://localhost:8080/"
        },
        "id": "xph7a-Io4s_o",
        "outputId": "251d067e-a06e-4cbf-f41a-e2b2c7970b16"
      },
      "source": [
        "! unzip sf-crime.zip"
      ],
      "execution_count": null,
      "outputs": [
        {
          "output_type": "stream",
          "name": "stdout",
          "text": [
            "Archive:  sf-crime.zip\n",
            "replace sampleSubmission.csv.zip? [y]es, [n]o, [A]ll, [N]one, [r]ename: n\n",
            "replace test.csv.zip? [y]es, [n]o, [A]ll, [N]one, [r]ename: n\n",
            "replace train.csv.zip? [y]es, [n]o, [A]ll, [N]one, [r]ename: n\n"
          ]
        }
      ]
    },
    {
      "cell_type": "code",
      "metadata": {
        "colab": {
          "base_uri": "https://localhost:8080/"
        },
        "id": "oiL0Pki3Xq0P",
        "outputId": "667bfa39-5ebd-49b9-c6fc-4cd8d85996a1"
      },
      "source": [
        "! unzip train.csv.zip"
      ],
      "execution_count": null,
      "outputs": [
        {
          "output_type": "stream",
          "name": "stdout",
          "text": [
            "Archive:  train.csv.zip\n",
            "replace train.csv? [y]es, [n]o, [A]ll, [N]one, [r]ename: n\n"
          ]
        }
      ]
    },
    {
      "cell_type": "code",
      "metadata": {
        "id": "k2DEDFwhY6Kj"
      },
      "source": [
        "for dirname, _, filenames in os.walk('/kaggle/input'):\n",
        "    for filename in filenames:\n",
        "        print(os.path.join(dirname, filename))"
      ],
      "execution_count": null,
      "outputs": []
    },
    {
      "cell_type": "code",
      "metadata": {
        "id": "od-ez0fA5OyI"
      },
      "source": [
        "tr_data=pd.read_csv('train.csv')"
      ],
      "execution_count": null,
      "outputs": []
    },
    {
      "cell_type": "code",
      "metadata": {
        "colab": {
          "base_uri": "https://localhost:8080/",
          "height": 203
        },
        "id": "t7NnAataXQPI",
        "outputId": "75bf46df-2557-4f66-b33e-b7c60e040950"
      },
      "source": [
        "tr_data.head()"
      ],
      "execution_count": null,
      "outputs": [
        {
          "output_type": "execute_result",
          "data": {
            "text/html": [
              "<div>\n",
              "<style scoped>\n",
              "    .dataframe tbody tr th:only-of-type {\n",
              "        vertical-align: middle;\n",
              "    }\n",
              "\n",
              "    .dataframe tbody tr th {\n",
              "        vertical-align: top;\n",
              "    }\n",
              "\n",
              "    .dataframe thead th {\n",
              "        text-align: right;\n",
              "    }\n",
              "</style>\n",
              "<table border=\"1\" class=\"dataframe\">\n",
              "  <thead>\n",
              "    <tr style=\"text-align: right;\">\n",
              "      <th></th>\n",
              "      <th>Dates</th>\n",
              "      <th>Category</th>\n",
              "      <th>Descript</th>\n",
              "      <th>DayOfWeek</th>\n",
              "      <th>PdDistrict</th>\n",
              "      <th>Resolution</th>\n",
              "      <th>Address</th>\n",
              "      <th>X</th>\n",
              "      <th>Y</th>\n",
              "    </tr>\n",
              "  </thead>\n",
              "  <tbody>\n",
              "    <tr>\n",
              "      <th>0</th>\n",
              "      <td>2015-05-13 23:53:00</td>\n",
              "      <td>WARRANTS</td>\n",
              "      <td>WARRANT ARREST</td>\n",
              "      <td>Wednesday</td>\n",
              "      <td>NORTHERN</td>\n",
              "      <td>ARREST, BOOKED</td>\n",
              "      <td>OAK ST / LAGUNA ST</td>\n",
              "      <td>-122.425892</td>\n",
              "      <td>37.774599</td>\n",
              "    </tr>\n",
              "    <tr>\n",
              "      <th>1</th>\n",
              "      <td>2015-05-13 23:53:00</td>\n",
              "      <td>OTHER OFFENSES</td>\n",
              "      <td>TRAFFIC VIOLATION ARREST</td>\n",
              "      <td>Wednesday</td>\n",
              "      <td>NORTHERN</td>\n",
              "      <td>ARREST, BOOKED</td>\n",
              "      <td>OAK ST / LAGUNA ST</td>\n",
              "      <td>-122.425892</td>\n",
              "      <td>37.774599</td>\n",
              "    </tr>\n",
              "    <tr>\n",
              "      <th>2</th>\n",
              "      <td>2015-05-13 23:33:00</td>\n",
              "      <td>OTHER OFFENSES</td>\n",
              "      <td>TRAFFIC VIOLATION ARREST</td>\n",
              "      <td>Wednesday</td>\n",
              "      <td>NORTHERN</td>\n",
              "      <td>ARREST, BOOKED</td>\n",
              "      <td>VANNESS AV / GREENWICH ST</td>\n",
              "      <td>-122.424363</td>\n",
              "      <td>37.800414</td>\n",
              "    </tr>\n",
              "    <tr>\n",
              "      <th>3</th>\n",
              "      <td>2015-05-13 23:30:00</td>\n",
              "      <td>LARCENY/THEFT</td>\n",
              "      <td>GRAND THEFT FROM LOCKED AUTO</td>\n",
              "      <td>Wednesday</td>\n",
              "      <td>NORTHERN</td>\n",
              "      <td>NONE</td>\n",
              "      <td>1500 Block of LOMBARD ST</td>\n",
              "      <td>-122.426995</td>\n",
              "      <td>37.800873</td>\n",
              "    </tr>\n",
              "    <tr>\n",
              "      <th>4</th>\n",
              "      <td>2015-05-13 23:30:00</td>\n",
              "      <td>LARCENY/THEFT</td>\n",
              "      <td>GRAND THEFT FROM LOCKED AUTO</td>\n",
              "      <td>Wednesday</td>\n",
              "      <td>PARK</td>\n",
              "      <td>NONE</td>\n",
              "      <td>100 Block of BRODERICK ST</td>\n",
              "      <td>-122.438738</td>\n",
              "      <td>37.771541</td>\n",
              "    </tr>\n",
              "  </tbody>\n",
              "</table>\n",
              "</div>"
            ],
            "text/plain": [
              "                 Dates        Category  ...           X          Y\n",
              "0  2015-05-13 23:53:00        WARRANTS  ... -122.425892  37.774599\n",
              "1  2015-05-13 23:53:00  OTHER OFFENSES  ... -122.425892  37.774599\n",
              "2  2015-05-13 23:33:00  OTHER OFFENSES  ... -122.424363  37.800414\n",
              "3  2015-05-13 23:30:00   LARCENY/THEFT  ... -122.426995  37.800873\n",
              "4  2015-05-13 23:30:00   LARCENY/THEFT  ... -122.438738  37.771541\n",
              "\n",
              "[5 rows x 9 columns]"
            ]
          },
          "metadata": {},
          "execution_count": 244
        }
      ]
    },
    {
      "cell_type": "code",
      "metadata": {
        "id": "-bJMR1mt2aNX",
        "colab": {
          "base_uri": "https://localhost:8080/",
          "height": 1000
        },
        "outputId": "e19378ef-c4eb-4d64-aaa8-8f943cf37470"
      },
      "source": [
        "crimes_rating = tr_data['Category'].value_counts()\n",
        "y_pos = np.arange(len(crimes_rating[0:18].keys()))\n",
        "\n",
        "plt.barh(y_pos, crimes_rating[0:18].to_numpy(),  align='center', alpha=1, color = 'black')\n",
        "\n",
        "plt.yticks(y_pos, map(lambda x:x.title(),crimes_rating[0:18].keys()), fontsize = 14)\n",
        "plt.xlabel('Number of occurences', fontsize = 14)\n",
        "plt.title('San Franciso Crimes', fontsize = 28)\n",
        "plt.ticklabel_format(style='sci', axis='x', scilimits=(0,0))\n",
        "\n",
        "print ('San Francisco Crimes\\n')\n",
        "print ('Category\\t\\tNumber of occurences') \n",
        "print (crimes_rating)"
      ],
      "execution_count": null,
      "outputs": [
        {
          "output_type": "stream",
          "name": "stdout",
          "text": [
            "San Francisco Crimes\n",
            "\n",
            "Category\t\tNumber of occurences\n",
            "LARCENY/THEFT                  174900\n",
            "OTHER OFFENSES                 126182\n",
            "NON-CRIMINAL                    92304\n",
            "ASSAULT                         76876\n",
            "DRUG/NARCOTIC                   53971\n",
            "VEHICLE THEFT                   53781\n",
            "VANDALISM                       44725\n",
            "WARRANTS                        42214\n",
            "BURGLARY                        36755\n",
            "SUSPICIOUS OCC                  31414\n",
            "MISSING PERSON                  25989\n",
            "ROBBERY                         23000\n",
            "FRAUD                           16679\n",
            "FORGERY/COUNTERFEITING          10609\n",
            "SECONDARY CODES                  9985\n",
            "WEAPON LAWS                      8555\n",
            "PROSTITUTION                     7484\n",
            "TRESPASS                         7326\n",
            "STOLEN PROPERTY                  4540\n",
            "SEX OFFENSES FORCIBLE            4388\n",
            "DISORDERLY CONDUCT               4320\n",
            "DRUNKENNESS                      4280\n",
            "RECOVERED VEHICLE                3138\n",
            "KIDNAPPING                       2341\n",
            "DRIVING UNDER THE INFLUENCE      2268\n",
            "RUNAWAY                          1946\n",
            "LIQUOR LAWS                      1903\n",
            "ARSON                            1513\n",
            "LOITERING                        1225\n",
            "EMBEZZLEMENT                     1166\n",
            "SUICIDE                           508\n",
            "FAMILY OFFENSES                   491\n",
            "BAD CHECKS                        406\n",
            "BRIBERY                           289\n",
            "EXTORTION                         256\n",
            "SEX OFFENSES NON FORCIBLE         148\n",
            "GAMBLING                          146\n",
            "PORNOGRAPHY/OBSCENE MAT            22\n",
            "TREA                                6\n",
            "Name: Category, dtype: int64\n"
          ]
        },
        {
          "output_type": "display_data",
          "data": {
            "image/png": "[encoded data removed]",
            "text/plain": [
              "<Figure size 432x288 with 1 Axes>"
            ]
          },
          "metadata": {
            "needs_background": "light"
          }
        }
      ]
    },
    {
      "cell_type": "code",
      "metadata": {
        "id": "NojM2Q3y3XXK"
      },
      "source": [
        "tr_data['Dates']=pd.to_datetime(tr_data[\"Dates\"])\n",
        "tr_data['Year']=tr_data['Dates'].dt.year\n",
        "tr_data['Month']=tr_data['Dates'].dt.month\n",
        "tr_data['Hour']=tr_data['Dates'].dt.hour\n",
        "month_map={1:'Jan', 2:'Feb', 3:'Mar', 4:'Apr', 5:'May', 6:'Jun', 7:'Jul', 8:'Aug', 9:'Sep', 10:'Oct', 11:'Nov', 12:'Dec'}\n",
        "tr_data['Month'].replace(month_map, inplace=True)\n",
        "tr_data['Year']=tr_data['Year'].astype(str)\n",
        "tr_data['Hour']=tr_data['Hour'].astype(str)"
      ],
      "execution_count": null,
      "outputs": []
    },
    {
      "cell_type": "code",
      "metadata": {
        "colab": {
          "base_uri": "https://localhost:8080/",
          "height": 287
        },
        "id": "8v5Y9FWbksLS",
        "outputId": "b67192ca-36ca-421c-c5e1-16c663ba3b8d"
      },
      "source": [
        "tr_data.head()"
      ],
      "execution_count": null,
      "outputs": [
        {
          "output_type": "execute_result",
          "data": {
            "text/html": [
              "<div>\n",
              "<style scoped>\n",
              "    .dataframe tbody tr th:only-of-type {\n",
              "        vertical-align: middle;\n",
              "    }\n",
              "\n",
              "    .dataframe tbody tr th {\n",
              "        vertical-align: top;\n",
              "    }\n",
              "\n",
              "    .dataframe thead th {\n",
              "        text-align: right;\n",
              "    }\n",
              "</style>\n",
              "<table border=\"1\" class=\"dataframe\">\n",
              "  <thead>\n",
              "    <tr style=\"text-align: right;\">\n",
              "      <th></th>\n",
              "      <th>Dates</th>\n",
              "      <th>Category</th>\n",
              "      <th>Descript</th>\n",
              "      <th>DayOfWeek</th>\n",
              "      <th>PdDistrict</th>\n",
              "      <th>Resolution</th>\n",
              "      <th>Address</th>\n",
              "      <th>X</th>\n",
              "      <th>Y</th>\n",
              "      <th>Year</th>\n",
              "      <th>Month</th>\n",
              "      <th>Hour</th>\n",
              "    </tr>\n",
              "  </thead>\n",
              "  <tbody>\n",
              "    <tr>\n",
              "      <th>0</th>\n",
              "      <td>2015-05-13 23:53:00</td>\n",
              "      <td>WARRANTS</td>\n",
              "      <td>WARRANT ARREST</td>\n",
              "      <td>Wednesday</td>\n",
              "      <td>NORTHERN</td>\n",
              "      <td>ARREST, BOOKED</td>\n",
              "      <td>OAK ST / LAGUNA ST</td>\n",
              "      <td>-122.425892</td>\n",
              "      <td>37.774599</td>\n",
              "      <td>2015</td>\n",
              "      <td>May</td>\n",
              "      <td>23</td>\n",
              "    </tr>\n",
              "    <tr>\n",
              "      <th>1</th>\n",
              "      <td>2015-05-13 23:53:00</td>\n",
              "      <td>OTHER OFFENSES</td>\n",
              "      <td>TRAFFIC VIOLATION ARREST</td>\n",
              "      <td>Wednesday</td>\n",
              "      <td>NORTHERN</td>\n",
              "      <td>ARREST, BOOKED</td>\n",
              "      <td>OAK ST / LAGUNA ST</td>\n",
              "      <td>-122.425892</td>\n",
              "      <td>37.774599</td>\n",
              "      <td>2015</td>\n",
              "      <td>May</td>\n",
              "      <td>23</td>\n",
              "    </tr>\n",
              "    <tr>\n",
              "      <th>2</th>\n",
              "      <td>2015-05-13 23:33:00</td>\n",
              "      <td>OTHER OFFENSES</td>\n",
              "      <td>TRAFFIC VIOLATION ARREST</td>\n",
              "      <td>Wednesday</td>\n",
              "      <td>NORTHERN</td>\n",
              "      <td>ARREST, BOOKED</td>\n",
              "      <td>VANNESS AV / GREENWICH ST</td>\n",
              "      <td>-122.424363</td>\n",
              "      <td>37.800414</td>\n",
              "      <td>2015</td>\n",
              "      <td>May</td>\n",
              "      <td>23</td>\n",
              "    </tr>\n",
              "    <tr>\n",
              "      <th>3</th>\n",
              "      <td>2015-05-13 23:30:00</td>\n",
              "      <td>LARCENY/THEFT</td>\n",
              "      <td>GRAND THEFT FROM LOCKED AUTO</td>\n",
              "      <td>Wednesday</td>\n",
              "      <td>NORTHERN</td>\n",
              "      <td>NONE</td>\n",
              "      <td>1500 Block of LOMBARD ST</td>\n",
              "      <td>-122.426995</td>\n",
              "      <td>37.800873</td>\n",
              "      <td>2015</td>\n",
              "      <td>May</td>\n",
              "      <td>23</td>\n",
              "    </tr>\n",
              "    <tr>\n",
              "      <th>4</th>\n",
              "      <td>2015-05-13 23:30:00</td>\n",
              "      <td>LARCENY/THEFT</td>\n",
              "      <td>GRAND THEFT FROM LOCKED AUTO</td>\n",
              "      <td>Wednesday</td>\n",
              "      <td>PARK</td>\n",
              "      <td>NONE</td>\n",
              "      <td>100 Block of BRODERICK ST</td>\n",
              "      <td>-122.438738</td>\n",
              "      <td>37.771541</td>\n",
              "      <td>2015</td>\n",
              "      <td>May</td>\n",
              "      <td>23</td>\n",
              "    </tr>\n",
              "  </tbody>\n",
              "</table>\n",
              "</div>"
            ],
            "text/plain": [
              "                Dates        Category  ... Month Hour\n",
              "0 2015-05-13 23:53:00        WARRANTS  ...   May   23\n",
              "1 2015-05-13 23:53:00  OTHER OFFENSES  ...   May   23\n",
              "2 2015-05-13 23:33:00  OTHER OFFENSES  ...   May   23\n",
              "3 2015-05-13 23:30:00   LARCENY/THEFT  ...   May   23\n",
              "4 2015-05-13 23:30:00   LARCENY/THEFT  ...   May   23\n",
              "\n",
              "[5 rows x 12 columns]"
            ]
          },
          "metadata": {},
          "execution_count": 247
        }
      ]
    },
    {
      "cell_type": "code",
      "metadata": {
        "id": "pRhjmFt0n9nW"
      },
      "source": [
        "YearlyData = pd.DataFrame(tr_data[\"Year\"].value_counts())\n",
        "MonthlyData = pd.DataFrame(tr_data[\"Month\"].value_counts())\n",
        "WeeklyData = pd.DataFrame(tr_data[\"DayOfWeek\"].value_counts(sort=False))\n",
        "HourlyData = pd.DataFrame(tr_data[\"Hour\"].value_counts())\n",
        "DistrictData = pd.DataFrame(tr_data[\"PdDistrict\"].value_counts())"
      ],
      "execution_count": null,
      "outputs": []
    },
    {
      "cell_type": "code",
      "metadata": {
        "colab": {
          "base_uri": "https://localhost:8080/",
          "height": 328
        },
        "id": "rFJCaNcVoMcd",
        "outputId": "5443b83a-742d-4866-e048-14cf9d3097b6"
      },
      "source": [
        "plt.figure(figsize=(16,10))\n",
        "ax2 =  plt.subplot2grid((2,2),(0,1))\n",
        "ax2.set_title('Hourly')\n",
        "sns.barplot(x=HourlyData.index, y=\"Hour\", data=HourlyData, order=['0','1','2','3','4','5','6','7','8','9','10','11','12','13','14','15','16','17','18','19','20','21','22','23'])\n",
        "ax4 =  plt.subplot2grid((2,2),(0,0))\n",
        "ax4.set_title('Yearly')\n",
        "sns.barplot(x=YearlyData.index, y=\"Year\", data=YearlyData)"
      ],
      "execution_count": null,
      "outputs": [
        {
          "output_type": "execute_result",
          "data": {
            "text/plain": [
              "<matplotlib.axes._subplots.AxesSubplot at 0x7f3e93a3ee10>"
            ]
          },
          "metadata": {},
          "execution_count": 249
        },
        {
          "output_type": "display_data",
          "data": {
            "image/png": "[encoded data removed]",
            "text/plain": [
              "<Figure size 1152x720 with 2 Axes>"
            ]
          },
          "metadata": {
            "needs_background": "light"
          }
        }
      ]
    },
    {
      "cell_type": "code",
      "metadata": {
        "colab": {
          "base_uri": "https://localhost:8080/",
          "height": 624
        },
        "id": "xVn-sNoWoX_j",
        "outputId": "1d2c19fc-6235-4388-8e1b-779b2b0860e4"
      },
      "source": [
        "plt.figure(figsize=(16,10))\n",
        "ax1 =  plt.subplot2grid((1,1),(0,0))\n",
        "ax1.set_title('Police District')\n",
        "sns.barplot(x=DistrictData.index, y=\"PdDistrict\", data=DistrictData)"
      ],
      "execution_count": null,
      "outputs": [
        {
          "output_type": "execute_result",
          "data": {
            "text/plain": [
              "<matplotlib.axes._subplots.AxesSubplot at 0x7f3e93886390>"
            ]
          },
          "metadata": {},
          "execution_count": 250
        },
        {
          "output_type": "display_data",
          "data": {
            "image/png": "[encoded data removed]",
            "text/plain": [
              "<Figure size 1152x720 with 1 Axes>"
            ]
          },
          "metadata": {
            "needs_background": "light"
          }
        }
      ]
    },
    {
      "cell_type": "code",
      "metadata": {
        "id": "j2XxiPgQp4bB"
      },
      "source": [
        "tmp=pd.DataFrame(tr_data.groupby(['Year','Month','DayOfWeek','Hour','PdDistrict']).size(), columns=['count'])\n",
        "tmp.reset_index(inplace=True)"
      ],
      "execution_count": null,
      "outputs": []
    },
    {
      "cell_type": "code",
      "metadata": {
        "colab": {
          "base_uri": "https://localhost:8080/",
          "height": 203
        },
        "id": "d8QcRnj1rdsP",
        "outputId": "dfd44ef1-e492-45a1-f518-45320d21902f"
      },
      "source": [
        "tmp.head()"
      ],
      "execution_count": null,
      "outputs": [
        {
          "output_type": "execute_result",
          "data": {
            "text/html": [
              "<div>\n",
              "<style scoped>\n",
              "    .dataframe tbody tr th:only-of-type {\n",
              "        vertical-align: middle;\n",
              "    }\n",
              "\n",
              "    .dataframe tbody tr th {\n",
              "        vertical-align: top;\n",
              "    }\n",
              "\n",
              "    .dataframe thead th {\n",
              "        text-align: right;\n",
              "    }\n",
              "</style>\n",
              "<table border=\"1\" class=\"dataframe\">\n",
              "  <thead>\n",
              "    <tr style=\"text-align: right;\">\n",
              "      <th></th>\n",
              "      <th>Year</th>\n",
              "      <th>Month</th>\n",
              "      <th>DayOfWeek</th>\n",
              "      <th>Hour</th>\n",
              "      <th>PdDistrict</th>\n",
              "      <th>count</th>\n",
              "    </tr>\n",
              "  </thead>\n",
              "  <tbody>\n",
              "    <tr>\n",
              "      <th>0</th>\n",
              "      <td>2003</td>\n",
              "      <td>Apr</td>\n",
              "      <td>Friday</td>\n",
              "      <td>0</td>\n",
              "      <td>BAYVIEW</td>\n",
              "      <td>3</td>\n",
              "    </tr>\n",
              "    <tr>\n",
              "      <th>1</th>\n",
              "      <td>2003</td>\n",
              "      <td>Apr</td>\n",
              "      <td>Friday</td>\n",
              "      <td>0</td>\n",
              "      <td>CENTRAL</td>\n",
              "      <td>4</td>\n",
              "    </tr>\n",
              "    <tr>\n",
              "      <th>2</th>\n",
              "      <td>2003</td>\n",
              "      <td>Apr</td>\n",
              "      <td>Friday</td>\n",
              "      <td>0</td>\n",
              "      <td>INGLESIDE</td>\n",
              "      <td>2</td>\n",
              "    </tr>\n",
              "    <tr>\n",
              "      <th>3</th>\n",
              "      <td>2003</td>\n",
              "      <td>Apr</td>\n",
              "      <td>Friday</td>\n",
              "      <td>0</td>\n",
              "      <td>MISSION</td>\n",
              "      <td>7</td>\n",
              "    </tr>\n",
              "    <tr>\n",
              "      <th>4</th>\n",
              "      <td>2003</td>\n",
              "      <td>Apr</td>\n",
              "      <td>Friday</td>\n",
              "      <td>0</td>\n",
              "      <td>NORTHERN</td>\n",
              "      <td>3</td>\n",
              "    </tr>\n",
              "  </tbody>\n",
              "</table>\n",
              "</div>"
            ],
            "text/plain": [
              "   Year Month DayOfWeek Hour PdDistrict  count\n",
              "0  2003   Apr    Friday    0    BAYVIEW      3\n",
              "1  2003   Apr    Friday    0    CENTRAL      4\n",
              "2  2003   Apr    Friday    0  INGLESIDE      2\n",
              "3  2003   Apr    Friday    0    MISSION      7\n",
              "4  2003   Apr    Friday    0   NORTHERN      3"
            ]
          },
          "metadata": {},
          "execution_count": 252
        }
      ]
    },
    {
      "cell_type": "code",
      "metadata": {
        "colab": {
          "base_uri": "https://localhost:8080/",
          "height": 919
        },
        "id": "PpM4r7Nxrkj1",
        "outputId": "be717a64-88ce-439f-8a21-7b7854256396"
      },
      "source": [
        "df_cr=pd.DataFrame(tr_data['Category'].value_counts())\n",
        "plt.figure(figsize=(16,10))\n",
        "ax1 =  plt.subplot2grid((1,2),(0,0))\n",
        "ax1.set_title('Top 10', size=16)\n",
        "sns.barplot(x=df_cr.head(10).index, y='Category', data=df_cr.head(10))\n",
        "ax1.set_xticklabels(ax1.xaxis.get_ticklabels(), rotation=90)\n",
        "ax2 =  plt.subplot2grid((1,2),(0,1))\n",
        "ax2.set_title('Bottom 10', size=16)\n",
        "sns.barplot(x=df_cr.tail(10).index, y='Category', data=df_cr.tail(10))\n",
        "ax2.set_xticklabels(ax2.xaxis.get_ticklabels(), rotation=90)"
      ],
      "execution_count": null,
      "outputs": [
        {
          "output_type": "execute_result",
          "data": {
            "text/plain": [
              "[Text(0, 0, 'EMBEZZLEMENT'),\n",
              " Text(0, 0, 'SUICIDE'),\n",
              " Text(0, 0, 'FAMILY OFFENSES'),\n",
              " Text(0, 0, 'BAD CHECKS'),\n",
              " Text(0, 0, 'BRIBERY'),\n",
              " Text(0, 0, 'EXTORTION'),\n",
              " Text(0, 0, 'SEX OFFENSES NON FORCIBLE'),\n",
              " Text(0, 0, 'GAMBLING'),\n",
              " Text(0, 0, 'PORNOGRAPHY/OBSCENE MAT'),\n",
              " Text(0, 0, 'TREA')]"
            ]
          },
          "metadata": {},
          "execution_count": 317
        },
        {
          "output_type": "display_data",
          "data": {
            "image/png": "[encoded data removed]",
            "text/plain": [
              "<Figure size 1152x720 with 2 Axes>"
            ]
          },
          "metadata": {
            "needs_background": "light"
          }
        }
      ]
    },
    {
      "cell_type": "code",
      "metadata": {
        "id": "-xKDEBl3sSAM"
      },
      "source": [
        "top10cc=pd.Series(df_cr.head(10).index)\n",
        "top10=tr_data[tr_data['Category'].isin(top10cc)]"
      ],
      "execution_count": null,
      "outputs": []
    },
    {
      "cell_type": "code",
      "metadata": {
        "colab": {
          "base_uri": "https://localhost:8080/",
          "height": 948
        },
        "id": "c873kFtSr3qW",
        "outputId": "72872297-5ba2-428d-84af-75326da6075b"
      },
      "source": [
        "tmp=pd.DataFrame(top10.groupby(['PdDistrict','Category']).size(), columns=['count'])\n",
        "tmp.reset_index(inplace=True)\n",
        "tmp=tmp.pivot(index='PdDistrict',columns='Category',values='count')\n",
        "fig, axes = plt.subplots(1,1,figsize=(15,15))\n",
        "tmp.plot(ax=axes,kind='bar', stacked=True)"
      ],
      "execution_count": null,
      "outputs": [
        {
          "output_type": "execute_result",
          "data": {
            "text/plain": [
              "<matplotlib.axes._subplots.AxesSubplot at 0x7f3e9376e190>"
            ]
          },
          "metadata": {},
          "execution_count": 255
        },
        {
          "output_type": "display_data",
          "data": {
            "image/png": "[encoded data removed]",
            "text/plain": [
              "<Figure size 1080x1080 with 1 Axes>"
            ]
          },
          "metadata": {
            "needs_background": "light"
          }
        }
      ]
    },
    {
      "cell_type": "code",
      "metadata": {
        "id": "EFjC8WIOHMIx"
      },
      "source": [
        "tr_data['Hour'] = l1.fit_transform(tr_data['Hour'])\n",
        "tr_data['Year'] = l1.fit_transform(tr_data['Year'])"
      ],
      "execution_count": null,
      "outputs": []
    },
    {
      "cell_type": "code",
      "metadata": {
        "colab": {
          "base_uri": "https://localhost:8080/",
          "height": 296
        },
        "id": "8YfI95TEG177",
        "outputId": "32709a18-bb46-4e52-d18f-9c08dcc826e2"
      },
      "source": [
        "sns.boxplot(data=tr_data, x='Hour') #no outliers"
      ],
      "execution_count": null,
      "outputs": [
        {
          "output_type": "execute_result",
          "data": {
            "text/plain": [
              "<matplotlib.axes._subplots.AxesSubplot at 0x7f3eae111fd0>"
            ]
          },
          "metadata": {},
          "execution_count": 257
        },
        {
          "output_type": "display_data",
          "data": {
            "image/png": "[encoded data removed]",
            "text/plain": [
              "<Figure size 432x288 with 1 Axes>"
            ]
          },
          "metadata": {
            "needs_background": "light"
          }
        }
      ]
    },
    {
      "cell_type": "code",
      "metadata": {
        "colab": {
          "base_uri": "https://localhost:8080/",
          "height": 296
        },
        "id": "0GkxmdFOHbS-",
        "outputId": "50100b4d-f473-4d02-e35e-e202c9bdfe98"
      },
      "source": [
        "sns.boxplot(data=tr_data, x='Year') #no outliers"
      ],
      "execution_count": null,
      "outputs": [
        {
          "output_type": "execute_result",
          "data": {
            "text/plain": [
              "<matplotlib.axes._subplots.AxesSubplot at 0x7f3eae004a50>"
            ]
          },
          "metadata": {},
          "execution_count": 258
        },
        {
          "output_type": "display_data",
          "data": {
            "image/png": "[encoded data removed]",
            "text/plain": [
              "<Figure size 432x288 with 1 Axes>"
            ]
          },
          "metadata": {
            "needs_background": "light"
          }
        }
      ]
    },
    {
      "cell_type": "code",
      "metadata": {
        "colab": {
          "base_uri": "https://localhost:8080/",
          "height": 296
        },
        "id": "Hq6sfm-8He4A",
        "outputId": "0d760ee8-0876-4e3e-a140-f42cb6fe765a"
      },
      "source": [
        "sns.boxplot(data=tr_data, x='X')"
      ],
      "execution_count": null,
      "outputs": [
        {
          "output_type": "execute_result",
          "data": {
            "text/plain": [
              "<matplotlib.axes._subplots.AxesSubplot at 0x7f3e936677d0>"
            ]
          },
          "metadata": {},
          "execution_count": 259
        },
        {
          "output_type": "display_data",
          "data": {
            "image/png": "[encoded data removed]",
            "text/plain": [
              "<Figure size 432x288 with 1 Axes>"
            ]
          },
          "metadata": {
            "needs_background": "light"
          }
        }
      ]
    },
    {
      "cell_type": "code",
      "metadata": {
        "colab": {
          "base_uri": "https://localhost:8080/",
          "height": 296
        },
        "id": "_q7n2W3pHwc3",
        "outputId": "87bcae20-b96f-4243-ad72-f86dbc16c729"
      },
      "source": [
        "sns.boxplot(data=tr_data, x='Y')"
      ],
      "execution_count": null,
      "outputs": [
        {
          "output_type": "execute_result",
          "data": {
            "text/plain": [
              "<matplotlib.axes._subplots.AxesSubplot at 0x7f3e935da3d0>"
            ]
          },
          "metadata": {},
          "execution_count": 260
        },
        {
          "output_type": "display_data",
          "data": {
            "image/png": "[encoded data removed]",
            "text/plain": [
              "<Figure size 432x288 with 1 Axes>"
            ]
          },
          "metadata": {
            "needs_background": "light"
          }
        }
      ]
    },
    {
      "cell_type": "code",
      "metadata": {
        "id": "I9312UCZH3Jm"
      },
      "source": [
        "#function for outliers\n",
        "def fix_outliers(df_, colName):\n",
        "  q1 = df_[colName].quantile(0.25)\n",
        "  q3 = df_[colName].quantile(0.75)\n",
        "  range = q3-q1\n",
        "  whisker_upper = q3+1.5*range\n",
        "  whisker_lower = q1-1.5*range\n",
        "  df_[colName] = np.where(df_[colName]>whisker_upper, whisker_upper, np.where(df_[colName]<whisker_lower, whisker_lower, df_[colName]))\n",
        "  return df_\n",
        "\n",
        "tr_data= fix_outliers(tr_data, 'X')\n",
        "tr_data= fix_outliers(tr_data, 'Y')"
      ],
      "execution_count": null,
      "outputs": []
    },
    {
      "cell_type": "code",
      "metadata": {
        "colab": {
          "base_uri": "https://localhost:8080/",
          "height": 296
        },
        "id": "WBoD70dFH-uU",
        "outputId": "6a4de8ab-e4ac-4c70-ea51-b0d1b9aee1d3"
      },
      "source": [
        "sns.boxplot(data=tr_data, x='Y') #outliers fixed"
      ],
      "execution_count": null,
      "outputs": [
        {
          "output_type": "execute_result",
          "data": {
            "text/plain": [
              "<matplotlib.axes._subplots.AxesSubplot at 0x7f3e93619510>"
            ]
          },
          "metadata": {},
          "execution_count": 262
        },
        {
          "output_type": "display_data",
          "data": {
            "image/png": "[encoded data removed]",
            "text/plain": [
              "<Figure size 432x288 with 1 Axes>"
            ]
          },
          "metadata": {
            "needs_background": "light"
          }
        }
      ]
    },
    {
      "cell_type": "code",
      "metadata": {
        "colab": {
          "base_uri": "https://localhost:8080/",
          "height": 296
        },
        "id": "CNn31362IEI5",
        "outputId": "0933a024-5e0f-40b3-8c6e-a4a1214d17d5"
      },
      "source": [
        "sns.boxplot(data=tr_data, x='X') #outliers fixed"
      ],
      "execution_count": null,
      "outputs": [
        {
          "output_type": "execute_result",
          "data": {
            "text/plain": [
              "<matplotlib.axes._subplots.AxesSubplot at 0x7f3e93531ed0>"
            ]
          },
          "metadata": {},
          "execution_count": 263
        },
        {
          "output_type": "display_data",
          "data": {
            "image/png": "[encoded data removed]",
            "text/plain": [
              "<Figure size 432x288 with 1 Axes>"
            ]
          },
          "metadata": {
            "needs_background": "light"
          }
        }
      ]
    },
    {
      "cell_type": "code",
      "metadata": {
        "id": "7O-QdFTO59Nl",
        "colab": {
          "base_uri": "https://localhost:8080/"
        },
        "outputId": "d00bb091-6940-4ee5-cf73-4a6991cff272"
      },
      "source": [
        "tr_data.dtypes"
      ],
      "execution_count": null,
      "outputs": [
        {
          "output_type": "execute_result",
          "data": {
            "text/plain": [
              "Dates         datetime64[ns]\n",
              "Category              object\n",
              "Descript              object\n",
              "DayOfWeek             object\n",
              "PdDistrict            object\n",
              "Resolution            object\n",
              "Address               object\n",
              "X                    float64\n",
              "Y                    float64\n",
              "Year                   int64\n",
              "Month                 object\n",
              "Hour                   int64\n",
              "dtype: object"
            ]
          },
          "metadata": {},
          "execution_count": 264
        }
      ]
    },
    {
      "cell_type": "code",
      "metadata": {
        "id": "0PgG396RsHZR",
        "colab": {
          "base_uri": "https://localhost:8080/"
        },
        "outputId": "b7c4fe33-1940-4c44-92a1-1e03ab026c16"
      },
      "source": [
        "tr_data.shape"
      ],
      "execution_count": null,
      "outputs": [
        {
          "output_type": "execute_result",
          "data": {
            "text/plain": [
              "(878049, 12)"
            ]
          },
          "metadata": {},
          "execution_count": 265
        }
      ]
    },
    {
      "cell_type": "code",
      "metadata": {
        "colab": {
          "base_uri": "https://localhost:8080/",
          "height": 554
        },
        "id": "HSgRAG2ieyj-",
        "outputId": "747502ab-965d-4ebc-e5d2-3007f1318c8b"
      },
      "source": [
        "tr_data.describe(include='all')"
      ],
      "execution_count": null,
      "outputs": [
        {
          "output_type": "stream",
          "name": "stderr",
          "text": [
            "/usr/local/lib/python3.7/dist-packages/ipykernel_launcher.py:1: FutureWarning: Treating datetime data as categorical rather than numeric in `.describe` is deprecated and will be removed in a future version of pandas. Specify `datetime_is_numeric=True` to silence this warning and adopt the future behavior now.\n",
            "  \"\"\"Entry point for launching an IPython kernel.\n"
          ]
        },
        {
          "output_type": "execute_result",
          "data": {
            "text/html": [
              "<div>\n",
              "<style scoped>\n",
              "    .dataframe tbody tr th:only-of-type {\n",
              "        vertical-align: middle;\n",
              "    }\n",
              "\n",
              "    .dataframe tbody tr th {\n",
              "        vertical-align: top;\n",
              "    }\n",
              "\n",
              "    .dataframe thead th {\n",
              "        text-align: right;\n",
              "    }\n",
              "</style>\n",
              "<table border=\"1\" class=\"dataframe\">\n",
              "  <thead>\n",
              "    <tr style=\"text-align: right;\">\n",
              "      <th></th>\n",
              "      <th>Dates</th>\n",
              "      <th>Category</th>\n",
              "      <th>Descript</th>\n",
              "      <th>DayOfWeek</th>\n",
              "      <th>PdDistrict</th>\n",
              "      <th>Resolution</th>\n",
              "      <th>Address</th>\n",
              "      <th>X</th>\n",
              "      <th>Y</th>\n",
              "      <th>Year</th>\n",
              "      <th>Month</th>\n",
              "      <th>Hour</th>\n",
              "    </tr>\n",
              "  </thead>\n",
              "  <tbody>\n",
              "    <tr>\n",
              "      <th>count</th>\n",
              "      <td>878049</td>\n",
              "      <td>878049</td>\n",
              "      <td>878049</td>\n",
              "      <td>878049</td>\n",
              "      <td>878049</td>\n",
              "      <td>878049</td>\n",
              "      <td>878049</td>\n",
              "      <td>878049.000000</td>\n",
              "      <td>878049.000000</td>\n",
              "      <td>878049.000000</td>\n",
              "      <td>878049</td>\n",
              "      <td>878049.000000</td>\n",
              "    </tr>\n",
              "    <tr>\n",
              "      <th>unique</th>\n",
              "      <td>389257</td>\n",
              "      <td>39</td>\n",
              "      <td>879</td>\n",
              "      <td>7</td>\n",
              "      <td>10</td>\n",
              "      <td>17</td>\n",
              "      <td>23228</td>\n",
              "      <td>NaN</td>\n",
              "      <td>NaN</td>\n",
              "      <td>NaN</td>\n",
              "      <td>12</td>\n",
              "      <td>NaN</td>\n",
              "    </tr>\n",
              "    <tr>\n",
              "      <th>top</th>\n",
              "      <td>2011-01-01 00:01:00</td>\n",
              "      <td>LARCENY/THEFT</td>\n",
              "      <td>GRAND THEFT FROM LOCKED AUTO</td>\n",
              "      <td>Friday</td>\n",
              "      <td>SOUTHERN</td>\n",
              "      <td>NONE</td>\n",
              "      <td>800 Block of BRYANT ST</td>\n",
              "      <td>NaN</td>\n",
              "      <td>NaN</td>\n",
              "      <td>NaN</td>\n",
              "      <td>Oct</td>\n",
              "      <td>NaN</td>\n",
              "    </tr>\n",
              "    <tr>\n",
              "      <th>freq</th>\n",
              "      <td>185</td>\n",
              "      <td>174900</td>\n",
              "      <td>60022</td>\n",
              "      <td>133734</td>\n",
              "      <td>157182</td>\n",
              "      <td>526790</td>\n",
              "      <td>26533</td>\n",
              "      <td>NaN</td>\n",
              "      <td>NaN</td>\n",
              "      <td>NaN</td>\n",
              "      <td>80274</td>\n",
              "      <td>NaN</td>\n",
              "    </tr>\n",
              "    <tr>\n",
              "      <th>first</th>\n",
              "      <td>2003-01-06 00:01:00</td>\n",
              "      <td>NaN</td>\n",
              "      <td>NaN</td>\n",
              "      <td>NaN</td>\n",
              "      <td>NaN</td>\n",
              "      <td>NaN</td>\n",
              "      <td>NaN</td>\n",
              "      <td>NaN</td>\n",
              "      <td>NaN</td>\n",
              "      <td>NaN</td>\n",
              "      <td>NaN</td>\n",
              "      <td>NaN</td>\n",
              "    </tr>\n",
              "    <tr>\n",
              "      <th>last</th>\n",
              "      <td>2015-05-13 23:53:00</td>\n",
              "      <td>NaN</td>\n",
              "      <td>NaN</td>\n",
              "      <td>NaN</td>\n",
              "      <td>NaN</td>\n",
              "      <td>NaN</td>\n",
              "      <td>NaN</td>\n",
              "      <td>NaN</td>\n",
              "      <td>NaN</td>\n",
              "      <td>NaN</td>\n",
              "      <td>NaN</td>\n",
              "      <td>NaN</td>\n",
              "    </tr>\n",
              "    <tr>\n",
              "      <th>mean</th>\n",
              "      <td>NaN</td>\n",
              "      <td>NaN</td>\n",
              "      <td>NaN</td>\n",
              "      <td>NaN</td>\n",
              "      <td>NaN</td>\n",
              "      <td>NaN</td>\n",
              "      <td>NaN</td>\n",
              "      <td>-122.421705</td>\n",
              "      <td>37.767040</td>\n",
              "      <td>5.712046</td>\n",
              "      <td>NaN</td>\n",
              "      <td>10.129348</td>\n",
              "    </tr>\n",
              "    <tr>\n",
              "      <th>std</th>\n",
              "      <td>NaN</td>\n",
              "      <td>NaN</td>\n",
              "      <td>NaN</td>\n",
              "      <td>NaN</td>\n",
              "      <td>NaN</td>\n",
              "      <td>NaN</td>\n",
              "      <td>NaN</td>\n",
              "      <td>0.022544</td>\n",
              "      <td>0.024170</td>\n",
              "      <td>3.631194</td>\n",
              "      <td>NaN</td>\n",
              "      <td>6.393686</td>\n",
              "    </tr>\n",
              "    <tr>\n",
              "      <th>min</th>\n",
              "      <td>NaN</td>\n",
              "      <td>NaN</td>\n",
              "      <td>NaN</td>\n",
              "      <td>NaN</td>\n",
              "      <td>NaN</td>\n",
              "      <td>NaN</td>\n",
              "      <td>NaN</td>\n",
              "      <td>-122.471941</td>\n",
              "      <td>37.707879</td>\n",
              "      <td>0.000000</td>\n",
              "      <td>NaN</td>\n",
              "      <td>0.000000</td>\n",
              "    </tr>\n",
              "    <tr>\n",
              "      <th>25%</th>\n",
              "      <td>NaN</td>\n",
              "      <td>NaN</td>\n",
              "      <td>NaN</td>\n",
              "      <td>NaN</td>\n",
              "      <td>NaN</td>\n",
              "      <td>NaN</td>\n",
              "      <td>NaN</td>\n",
              "      <td>-122.432952</td>\n",
              "      <td>37.752427</td>\n",
              "      <td>3.000000</td>\n",
              "      <td>NaN</td>\n",
              "      <td>5.000000</td>\n",
              "    </tr>\n",
              "    <tr>\n",
              "      <th>50%</th>\n",
              "      <td>NaN</td>\n",
              "      <td>NaN</td>\n",
              "      <td>NaN</td>\n",
              "      <td>NaN</td>\n",
              "      <td>NaN</td>\n",
              "      <td>NaN</td>\n",
              "      <td>NaN</td>\n",
              "      <td>-122.416420</td>\n",
              "      <td>37.775421</td>\n",
              "      <td>6.000000</td>\n",
              "      <td>NaN</td>\n",
              "      <td>10.000000</td>\n",
              "    </tr>\n",
              "    <tr>\n",
              "      <th>75%</th>\n",
              "      <td>NaN</td>\n",
              "      <td>NaN</td>\n",
              "      <td>NaN</td>\n",
              "      <td>NaN</td>\n",
              "      <td>NaN</td>\n",
              "      <td>NaN</td>\n",
              "      <td>NaN</td>\n",
              "      <td>-122.406959</td>\n",
              "      <td>37.784369</td>\n",
              "      <td>9.000000</td>\n",
              "      <td>NaN</td>\n",
              "      <td>15.000000</td>\n",
              "    </tr>\n",
              "    <tr>\n",
              "      <th>max</th>\n",
              "      <td>NaN</td>\n",
              "      <td>NaN</td>\n",
              "      <td>NaN</td>\n",
              "      <td>NaN</td>\n",
              "      <td>NaN</td>\n",
              "      <td>NaN</td>\n",
              "      <td>NaN</td>\n",
              "      <td>-122.367969</td>\n",
              "      <td>37.832280</td>\n",
              "      <td>12.000000</td>\n",
              "      <td>NaN</td>\n",
              "      <td>23.000000</td>\n",
              "    </tr>\n",
              "  </tbody>\n",
              "</table>\n",
              "</div>"
            ],
            "text/plain": [
              "                      Dates       Category  ...   Month           Hour\n",
              "count                878049         878049  ...  878049  878049.000000\n",
              "unique               389257             39  ...      12            NaN\n",
              "top     2011-01-01 00:01:00  LARCENY/THEFT  ...     Oct            NaN\n",
              "freq                    185         174900  ...   80274            NaN\n",
              "first   2003-01-06 00:01:00            NaN  ...     NaN            NaN\n",
              "last    2015-05-13 23:53:00            NaN  ...     NaN            NaN\n",
              "mean                    NaN            NaN  ...     NaN      10.129348\n",
              "std                     NaN            NaN  ...     NaN       6.393686\n",
              "min                     NaN            NaN  ...     NaN       0.000000\n",
              "25%                     NaN            NaN  ...     NaN       5.000000\n",
              "50%                     NaN            NaN  ...     NaN      10.000000\n",
              "75%                     NaN            NaN  ...     NaN      15.000000\n",
              "max                     NaN            NaN  ...     NaN      23.000000\n",
              "\n",
              "[13 rows x 12 columns]"
            ]
          },
          "metadata": {},
          "execution_count": 266
        }
      ]
    },
    {
      "cell_type": "code",
      "metadata": {
        "id": "-ZnUYNnxe6wf"
      },
      "source": [
        "#dropping useless features\n",
        "tr_data.drop('Descript', inplace=True, axis=1)\n",
        "tr_data.drop('Resolution', inplace=True, axis=1)\n",
        "tr_data.drop('Dates', inplace=True, axis=1)\n",
        "tr_data.drop('Address', inplace=True, axis=1)"
      ],
      "execution_count": null,
      "outputs": []
    },
    {
      "cell_type": "code",
      "metadata": {
        "colab": {
          "base_uri": "https://localhost:8080/",
          "height": 203
        },
        "id": "m1x64MkogXDB",
        "outputId": "8e075af0-b83c-4adc-cd47-0b7b1222c29d"
      },
      "source": [
        "tr_data.head()"
      ],
      "execution_count": null,
      "outputs": [
        {
          "output_type": "execute_result",
          "data": {
            "text/html": [
              "<div>\n",
              "<style scoped>\n",
              "    .dataframe tbody tr th:only-of-type {\n",
              "        vertical-align: middle;\n",
              "    }\n",
              "\n",
              "    .dataframe tbody tr th {\n",
              "        vertical-align: top;\n",
              "    }\n",
              "\n",
              "    .dataframe thead th {\n",
              "        text-align: right;\n",
              "    }\n",
              "</style>\n",
              "<table border=\"1\" class=\"dataframe\">\n",
              "  <thead>\n",
              "    <tr style=\"text-align: right;\">\n",
              "      <th></th>\n",
              "      <th>Category</th>\n",
              "      <th>DayOfWeek</th>\n",
              "      <th>PdDistrict</th>\n",
              "      <th>X</th>\n",
              "      <th>Y</th>\n",
              "      <th>Year</th>\n",
              "      <th>Month</th>\n",
              "      <th>Hour</th>\n",
              "    </tr>\n",
              "  </thead>\n",
              "  <tbody>\n",
              "    <tr>\n",
              "      <th>0</th>\n",
              "      <td>WARRANTS</td>\n",
              "      <td>Wednesday</td>\n",
              "      <td>NORTHERN</td>\n",
              "      <td>-122.425892</td>\n",
              "      <td>37.774599</td>\n",
              "      <td>12</td>\n",
              "      <td>May</td>\n",
              "      <td>16</td>\n",
              "    </tr>\n",
              "    <tr>\n",
              "      <th>1</th>\n",
              "      <td>OTHER OFFENSES</td>\n",
              "      <td>Wednesday</td>\n",
              "      <td>NORTHERN</td>\n",
              "      <td>-122.425892</td>\n",
              "      <td>37.774599</td>\n",
              "      <td>12</td>\n",
              "      <td>May</td>\n",
              "      <td>16</td>\n",
              "    </tr>\n",
              "    <tr>\n",
              "      <th>2</th>\n",
              "      <td>OTHER OFFENSES</td>\n",
              "      <td>Wednesday</td>\n",
              "      <td>NORTHERN</td>\n",
              "      <td>-122.424363</td>\n",
              "      <td>37.800414</td>\n",
              "      <td>12</td>\n",
              "      <td>May</td>\n",
              "      <td>16</td>\n",
              "    </tr>\n",
              "    <tr>\n",
              "      <th>3</th>\n",
              "      <td>LARCENY/THEFT</td>\n",
              "      <td>Wednesday</td>\n",
              "      <td>NORTHERN</td>\n",
              "      <td>-122.426995</td>\n",
              "      <td>37.800873</td>\n",
              "      <td>12</td>\n",
              "      <td>May</td>\n",
              "      <td>16</td>\n",
              "    </tr>\n",
              "    <tr>\n",
              "      <th>4</th>\n",
              "      <td>LARCENY/THEFT</td>\n",
              "      <td>Wednesday</td>\n",
              "      <td>PARK</td>\n",
              "      <td>-122.438738</td>\n",
              "      <td>37.771541</td>\n",
              "      <td>12</td>\n",
              "      <td>May</td>\n",
              "      <td>16</td>\n",
              "    </tr>\n",
              "  </tbody>\n",
              "</table>\n",
              "</div>"
            ],
            "text/plain": [
              "         Category  DayOfWeek PdDistrict  ...  Year  Month  Hour\n",
              "0        WARRANTS  Wednesday   NORTHERN  ...    12    May    16\n",
              "1  OTHER OFFENSES  Wednesday   NORTHERN  ...    12    May    16\n",
              "2  OTHER OFFENSES  Wednesday   NORTHERN  ...    12    May    16\n",
              "3   LARCENY/THEFT  Wednesday   NORTHERN  ...    12    May    16\n",
              "4   LARCENY/THEFT  Wednesday       PARK  ...    12    May    16\n",
              "\n",
              "[5 rows x 8 columns]"
            ]
          },
          "metadata": {},
          "execution_count": 268
        }
      ]
    },
    {
      "cell_type": "code",
      "metadata": {
        "colab": {
          "base_uri": "https://localhost:8080/",
          "height": 432
        },
        "id": "Zd0rX4uhggFX",
        "outputId": "08fe1fb0-d079-45d0-a3b6-6822e0001914"
      },
      "source": [
        "chart = sns.histplot(data=tr_data, x='Category', palette=\"Set1\")\n",
        "chart.tick_params(axis='x', rotation=90)"
      ],
      "execution_count": null,
      "outputs": [
        {
          "output_type": "display_data",
          "data": {
            "image/png": "[encoded data removed]",
            "text/plain": [
              "<Figure size 432x288 with 1 Axes>"
            ]
          },
          "metadata": {
            "needs_background": "light"
          }
        }
      ]
    },
    {
      "cell_type": "code",
      "metadata": {
        "colab": {
          "base_uri": "https://localhost:8080/"
        },
        "id": "klqAzlBXpHRY",
        "outputId": "36ebc011-1102-4c2e-daca-a8bbe8316f3e"
      },
      "source": [
        "tr_data.dtypes"
      ],
      "execution_count": null,
      "outputs": [
        {
          "output_type": "execute_result",
          "data": {
            "text/plain": [
              "Category       object\n",
              "DayOfWeek      object\n",
              "PdDistrict     object\n",
              "X             float64\n",
              "Y             float64\n",
              "Year            int64\n",
              "Month          object\n",
              "Hour            int64\n",
              "dtype: object"
            ]
          },
          "metadata": {},
          "execution_count": 270
        }
      ]
    },
    {
      "cell_type": "code",
      "metadata": {
        "id": "zNMbuya1By9T"
      },
      "source": [
        "l1 = LabelEncoder()\n",
        "tr_data['PdDistrict'] = l1.fit_transform(tr_data['PdDistrict'])\n",
        "tr_data['Month'] = l1.fit_transform(tr_data['Month'])\n",
        "tr_data['DayOfWeek'] = l1.fit_transform(tr_data['DayOfWeek'])\n",
        "\n",
        "l2 = LabelEncoder()\n",
        "X = tr_data.drop(columns=['Category'])\n",
        "y= l2.fit_transform(tr_data['Category'])"
      ],
      "execution_count": null,
      "outputs": []
    },
    {
      "cell_type": "code",
      "metadata": {
        "id": "x3kXZ2K0AuYw"
      },
      "source": [
        "X_train, X_test, y_train, y_test = train_test_split(X, y, test_size=0.20)"
      ],
      "execution_count": null,
      "outputs": []
    },
    {
      "cell_type": "code",
      "metadata": {
        "id": "27wjJ1-l23Gf"
      },
      "source": [
        "rfc = RandomForestClassifier(n_estimators=10,min_samples_split=1000)"
      ],
      "execution_count": null,
      "outputs": []
    },
    {
      "cell_type": "code",
      "metadata": {
        "colab": {
          "base_uri": "https://localhost:8080/"
        },
        "id": "WQEnnFj1orvI",
        "outputId": "2d5f2f74-2d9d-46f2-e575-78823c5ae408"
      },
      "source": [
        "rfc.fit(X_test, y_test)"
      ],
      "execution_count": null,
      "outputs": [
        {
          "output_type": "execute_result",
          "data": {
            "text/plain": [
              "RandomForestClassifier(bootstrap=True, ccp_alpha=0.0, class_weight=None,\n",
              "                       criterion='gini', max_depth=None, max_features='auto',\n",
              "                       max_leaf_nodes=None, max_samples=None,\n",
              "                       min_impurity_decrease=0.0, min_impurity_split=None,\n",
              "                       min_samples_leaf=1, min_samples_split=1000,\n",
              "                       min_weight_fraction_leaf=0.0, n_estimators=10,\n",
              "                       n_jobs=None, oob_score=False, random_state=None,\n",
              "                       verbose=0, warm_start=False)"
            ]
          },
          "metadata": {},
          "execution_count": 296
        }
      ]
    },
    {
      "cell_type": "code",
      "metadata": {
        "id": "8angHiAL5Y42"
      },
      "source": [
        "rfc_pred = rfc.predict(X_test)"
      ],
      "execution_count": null,
      "outputs": []
    },
    {
      "cell_type": "code",
      "metadata": {
        "colab": {
          "base_uri": "https://localhost:8080/"
        },
        "id": "Al6sp54U1kkj",
        "outputId": "af43b229-772b-437b-eb7b-18c4b921bd6c"
      },
      "source": [
        "dtree = DecisionTreeClassifier()\n",
        "dtree.fit(X_train,y_train)"
      ],
      "execution_count": null,
      "outputs": [
        {
          "output_type": "execute_result",
          "data": {
            "text/plain": [
              "DecisionTreeClassifier(ccp_alpha=0.0, class_weight=None, criterion='gini',\n",
              "                       max_depth=None, max_features=None, max_leaf_nodes=None,\n",
              "                       min_impurity_decrease=0.0, min_impurity_split=None,\n",
              "                       min_samples_leaf=1, min_samples_split=2,\n",
              "                       min_weight_fraction_leaf=0.0, presort='deprecated',\n",
              "                       random_state=None, splitter='best')"
            ]
          },
          "metadata": {},
          "execution_count": 298
        }
      ]
    },
    {
      "cell_type": "code",
      "metadata": {
        "id": "KBhd_1pX1oCo"
      },
      "source": [
        "dtree_pred1 = dtree.predict(X_test)"
      ],
      "execution_count": null,
      "outputs": []
    },
    {
      "cell_type": "code",
      "metadata": {
        "colab": {
          "base_uri": "https://localhost:8080/"
        },
        "id": "ceh9Emgn635U",
        "outputId": "496dcba6-7468-4b27-c9bf-fc533e4a1a26"
      },
      "source": [
        "y_test.shape"
      ],
      "execution_count": null,
      "outputs": [
        {
          "output_type": "execute_result",
          "data": {
            "text/plain": [
              "(175610,)"
            ]
          },
          "metadata": {},
          "execution_count": 300
        }
      ]
    },
    {
      "cell_type": "code",
      "metadata": {
        "colab": {
          "base_uri": "https://localhost:8080/"
        },
        "id": "WvVZtt9_66-c",
        "outputId": "844de8cc-fac5-44d7-f780-420f8cb2f9cd"
      },
      "source": [
        "rfc_pred.shape"
      ],
      "execution_count": null,
      "outputs": [
        {
          "output_type": "execute_result",
          "data": {
            "text/plain": [
              "(175610,)"
            ]
          },
          "metadata": {},
          "execution_count": 301
        }
      ]
    },
    {
      "cell_type": "code",
      "metadata": {
        "id": "RQ6TKvjnQM5d"
      },
      "source": [
        "knn = KNeighborsClassifier(n_neighbors=2)\n",
        "knn.fit(X_train, y_train)\n",
        "knn_pred = knn.predict(X_test)"
      ],
      "execution_count": null,
      "outputs": []
    },
    {
      "cell_type": "code",
      "metadata": {
        "colab": {
          "base_uri": "https://localhost:8080/"
        },
        "id": "ZI87Pg1t_85x",
        "outputId": "ac7b6645-d2fa-4bad-e613-66527b7a42df"
      },
      "source": [
        "print(\"Random forest classification accuracy:\",accuracy_score(y_test, rfc_pred))"
      ],
      "execution_count": null,
      "outputs": [
        {
          "output_type": "stream",
          "name": "stdout",
          "text": [
            "Random forest classification accuracy: 0.2527817322475941\n"
          ]
        }
      ]
    },
    {
      "cell_type": "code",
      "metadata": {
        "colab": {
          "base_uri": "https://localhost:8080/"
        },
        "id": "S6xXskwgFlr0",
        "outputId": "ddf56e2a-e278-47f6-cdbc-15a06e3a1fda"
      },
      "source": [
        "print (classification_report(y_test,rfc_pred))"
      ],
      "execution_count": null,
      "outputs": [
        {
          "output_type": "stream",
          "name": "stderr",
          "text": [
            "/usr/local/lib/python3.7/dist-packages/sklearn/metrics/_classification.py:1272: UndefinedMetricWarning: Precision and F-score are ill-defined and being set to 0.0 in labels with no predicted samples. Use `zero_division` parameter to control this behavior.\n",
            "  _warn_prf(average, modifier, msg_start, len(result))\n"
          ]
        },
        {
          "output_type": "stream",
          "name": "stdout",
          "text": [
            "              precision    recall  f1-score   support\n",
            "\n",
            "           0       0.00      0.00      0.00       309\n",
            "           1       0.27      0.00      0.01     15501\n",
            "           2       0.00      0.00      0.00        83\n",
            "           3       0.00      0.00      0.00        65\n",
            "           4       0.00      0.00      0.00      7286\n",
            "           5       0.00      0.00      0.00       863\n",
            "           6       0.00      0.00      0.00       430\n",
            "           7       0.28      0.35      0.31     10751\n",
            "           8       0.00      0.00      0.00       829\n",
            "           9       0.00      0.00      0.00       229\n",
            "          10       0.00      0.00      0.00        55\n",
            "          11       0.00      0.00      0.00       101\n",
            "          12       0.00      0.00      0.00      2038\n",
            "          13       0.00      0.00      0.00      3315\n",
            "          14       0.00      0.00      0.00        40\n",
            "          15       0.00      0.00      0.00       457\n",
            "          16       0.27      0.82      0.40     34947\n",
            "          17       0.00      0.00      0.00       408\n",
            "          18       0.00      0.00      0.00       243\n",
            "          19       0.90      0.06      0.11      5109\n",
            "          20       0.35      0.03      0.06     18342\n",
            "          21       0.20      0.37      0.26     25574\n",
            "          22       0.00      0.00      0.00         5\n",
            "          23       0.76      0.11      0.20      1469\n",
            "          24       0.00      0.00      0.00       639\n",
            "          25       0.00      0.00      0.00      4665\n",
            "          26       0.00      0.00      0.00       381\n",
            "          27       0.00      0.00      0.00      2017\n",
            "          28       0.00      0.00      0.00       883\n",
            "          29       0.00      0.00      0.00        28\n",
            "          30       0.00      0.00      0.00       906\n",
            "          31       0.00      0.00      0.00       115\n",
            "          32       0.00      0.00      0.00      6237\n",
            "          33       0.00      0.00      0.00         1\n",
            "          34       0.00      0.00      0.00      1483\n",
            "          35       0.00      0.00      0.00      9005\n",
            "          36       0.23      0.14      0.17     10689\n",
            "          37       0.00      0.00      0.00      8380\n",
            "          38       0.00      0.00      0.00      1732\n",
            "\n",
            "    accuracy                           0.25    175610\n",
            "   macro avg       0.08      0.05      0.04    175610\n",
            "weighted avg       0.21      0.25      0.16    175610\n",
            "\n"
          ]
        }
      ]
    },
    {
      "cell_type": "code",
      "metadata": {
        "colab": {
          "base_uri": "https://localhost:8080/"
        },
        "id": "iNctUb1AABvX",
        "outputId": "fe97578a-b8fe-4db0-d157-a1ca4fdbe6fe"
      },
      "source": [
        "print(\"Decision tree accuracy:\" ,accuracy_score(y_test, dtree_pred1))"
      ],
      "execution_count": null,
      "outputs": [
        {
          "output_type": "stream",
          "name": "stdout",
          "text": [
            "Decision tree accuracy: 0.2387164740048972\n"
          ]
        }
      ]
    },
    {
      "cell_type": "code",
      "metadata": {
        "colab": {
          "base_uri": "https://localhost:8080/"
        },
        "id": "I95ejETvFtAj",
        "outputId": "ca565aa8-b183-452a-9316-e7f3539b8170"
      },
      "source": [
        "print (classification_report(y_test,dtree_pred1))"
      ],
      "execution_count": null,
      "outputs": [
        {
          "output_type": "stream",
          "name": "stderr",
          "text": [
            "/usr/local/lib/python3.7/dist-packages/sklearn/metrics/_classification.py:1272: UndefinedMetricWarning: Precision and F-score are ill-defined and being set to 0.0 in labels with no predicted samples. Use `zero_division` parameter to control this behavior.\n",
            "  _warn_prf(average, modifier, msg_start, len(result))\n"
          ]
        },
        {
          "output_type": "stream",
          "name": "stdout",
          "text": [
            "              precision    recall  f1-score   support\n",
            "\n",
            "           0       0.03      0.04      0.04       309\n",
            "           1       0.20      0.25      0.22     15501\n",
            "           2       0.01      0.01      0.01        83\n",
            "           3       0.00      0.00      0.00        65\n",
            "           4       0.11      0.12      0.12      7286\n",
            "           5       0.03      0.04      0.03       863\n",
            "           6       0.02      0.02      0.02       430\n",
            "           7       0.33      0.47      0.39     10751\n",
            "           8       0.01      0.01      0.01       829\n",
            "           9       0.01      0.01      0.01       229\n",
            "          10       0.00      0.00      0.00        55\n",
            "          11       0.05      0.06      0.06       101\n",
            "          12       0.09      0.10      0.09      2038\n",
            "          13       0.06      0.08      0.07      3315\n",
            "          14       0.10      0.07      0.08        40\n",
            "          15       0.02      0.03      0.03       457\n",
            "          16       0.37      0.34      0.36     34947\n",
            "          17       0.04      0.05      0.05       408\n",
            "          18       0.15      0.17      0.16       243\n",
            "          19       0.47      0.54      0.50      5109\n",
            "          20       0.20      0.18      0.19     18342\n",
            "          21       0.24      0.22      0.23     25574\n",
            "          22       0.00      0.00      0.00         5\n",
            "          23       0.52      0.52      0.52      1469\n",
            "          24       0.04      0.03      0.03       639\n",
            "          25       0.07      0.06      0.06      4665\n",
            "          26       0.21      0.18      0.19       381\n",
            "          27       0.00      0.00      0.00      2017\n",
            "          28       0.12      0.11      0.12       883\n",
            "          29       0.00      0.00      0.00        28\n",
            "          30       0.01      0.01      0.01       906\n",
            "          31       0.03      0.03      0.03       115\n",
            "          32       0.06      0.06      0.06      6237\n",
            "          33       0.00      0.00      0.00         1\n",
            "          34       0.04      0.03      0.03      1483\n",
            "          35       0.12      0.10      0.11      9005\n",
            "          36       0.40      0.43      0.41     10689\n",
            "          37       0.11      0.09      0.10      8380\n",
            "          38       0.11      0.08      0.09      1732\n",
            "\n",
            "    accuracy                           0.24    175610\n",
            "   macro avg       0.11      0.12      0.11    175610\n",
            "weighted avg       0.24      0.24      0.24    175610\n",
            "\n"
          ]
        }
      ]
    },
    {
      "cell_type": "code",
      "metadata": {
        "colab": {
          "base_uri": "https://localhost:8080/"
        },
        "id": "ptHCn2B2QjMy",
        "outputId": "9bf93dbf-522e-4aa2-f1d3-c6a31ae44efb"
      },
      "source": [
        "print(\"K-nearest neighbours accuracy:\",accuracy_score(y_test, knn_pred))"
      ],
      "execution_count": null,
      "outputs": [
        {
          "output_type": "stream",
          "name": "stdout",
          "text": [
            "K-nearest neighbours accuracy: 0.18590626957462558\n"
          ]
        }
      ]
    },
    {
      "cell_type": "code",
      "metadata": {
        "colab": {
          "base_uri": "https://localhost:8080/"
        },
        "id": "5Zry-hPGFv_Y",
        "outputId": "77f9ee25-4bd7-4e18-b6df-9ba28db89c67"
      },
      "source": [
        "print (classification_report(y_test,knn_pred))"
      ],
      "execution_count": null,
      "outputs": [
        {
          "output_type": "stream",
          "name": "stderr",
          "text": [
            "/usr/local/lib/python3.7/dist-packages/sklearn/metrics/_classification.py:1272: UndefinedMetricWarning: Precision and F-score are ill-defined and being set to 0.0 in labels with no predicted samples. Use `zero_division` parameter to control this behavior.\n",
            "  _warn_prf(average, modifier, msg_start, len(result))\n"
          ]
        },
        {
          "output_type": "stream",
          "name": "stdout",
          "text": [
            "              precision    recall  f1-score   support\n",
            "\n",
            "           0       0.02      0.04      0.03       309\n",
            "           1       0.15      0.29      0.20     15501\n",
            "           2       0.00      0.00      0.00        83\n",
            "           3       0.01      0.02      0.01        65\n",
            "           4       0.07      0.12      0.09      7286\n",
            "           5       0.03      0.06      0.04       863\n",
            "           6       0.02      0.04      0.03       430\n",
            "           7       0.26      0.48      0.33     10751\n",
            "           8       0.01      0.02      0.01       829\n",
            "           9       0.01      0.02      0.01       229\n",
            "          10       0.01      0.02      0.01        55\n",
            "          11       0.03      0.04      0.03       101\n",
            "          12       0.06      0.10      0.08      2038\n",
            "          13       0.05      0.07      0.06      3315\n",
            "          14       0.03      0.03      0.03        40\n",
            "          15       0.02      0.03      0.03       457\n",
            "          16       0.29      0.34      0.31     34947\n",
            "          17       0.06      0.08      0.07       408\n",
            "          18       0.09      0.09      0.09       243\n",
            "          19       0.25      0.31      0.28      5109\n",
            "          20       0.14      0.13      0.13     18342\n",
            "          21       0.19      0.15      0.17     25574\n",
            "          22       0.00      0.00      0.00         5\n",
            "          23       0.35      0.29      0.32      1469\n",
            "          24       0.01      0.00      0.00       639\n",
            "          25       0.06      0.03      0.04      4665\n",
            "          26       0.07      0.04      0.05       381\n",
            "          27       0.00      0.00      0.00      2017\n",
            "          28       0.11      0.06      0.07       883\n",
            "          29       0.00      0.00      0.00        28\n",
            "          30       0.01      0.00      0.00       906\n",
            "          31       0.02      0.01      0.01       115\n",
            "          32       0.05      0.02      0.03      6237\n",
            "          33       0.00      0.00      0.00         1\n",
            "          34       0.03      0.01      0.02      1483\n",
            "          35       0.09      0.03      0.04      9005\n",
            "          36       0.27      0.08      0.13     10689\n",
            "          37       0.10      0.01      0.02      8380\n",
            "          38       0.20      0.02      0.04      1732\n",
            "\n",
            "    accuracy                           0.19    175610\n",
            "   macro avg       0.08      0.08      0.07    175610\n",
            "weighted avg       0.18      0.19      0.17    175610\n",
            "\n"
          ]
        }
      ]
    },
    {
      "cell_type": "code",
      "metadata": {
        "id": "zuZq3YZyQpmG"
      },
      "source": [
        "rfcModified = RandomForestClassifier(n_estimators=80,min_samples_split=1000)"
      ],
      "execution_count": null,
      "outputs": []
    },
    {
      "cell_type": "code",
      "metadata": {
        "colab": {
          "base_uri": "https://localhost:8080/"
        },
        "id": "7SNbw858AyJH",
        "outputId": "bffff01c-9ea4-44e4-93f7-2f352c1f8e7c"
      },
      "source": [
        "rfcModified.fit(X_test, y_test)"
      ],
      "execution_count": null,
      "outputs": [
        {
          "output_type": "execute_result",
          "data": {
            "text/plain": [
              "RandomForestClassifier(bootstrap=True, ccp_alpha=0.0, class_weight=None,\n",
              "                       criterion='gini', max_depth=None, max_features='auto',\n",
              "                       max_leaf_nodes=None, max_samples=None,\n",
              "                       min_impurity_decrease=0.0, min_impurity_split=None,\n",
              "                       min_samples_leaf=1, min_samples_split=1000,\n",
              "                       min_weight_fraction_leaf=0.0, n_estimators=80,\n",
              "                       n_jobs=None, oob_score=False, random_state=None,\n",
              "                       verbose=0, warm_start=False)"
            ]
          },
          "metadata": {},
          "execution_count": 310
        }
      ]
    },
    {
      "cell_type": "code",
      "metadata": {
        "id": "5QhIVBw9A1Vs"
      },
      "source": [
        "rfcModified_pred = rfcModified.predict(X_test)"
      ],
      "execution_count": null,
      "outputs": []
    },
    {
      "cell_type": "code",
      "metadata": {
        "id": "vOvfu2XNEpDt"
      },
      "source": [
        "knnModified = KNeighborsClassifier(n_neighbors=15)\n",
        "knnModified.fit(X_train, y_train)\n",
        "knnModified_pred = knnModified.predict(X_test)"
      ],
      "execution_count": null,
      "outputs": []
    },
    {
      "cell_type": "code",
      "metadata": {
        "colab": {
          "base_uri": "https://localhost:8080/"
        },
        "id": "h0iElGdoFL3v",
        "outputId": "32a291da-7aca-4492-e504-b60127a8f8e2"
      },
      "source": [
        "print(\"K-nearest neighbours after tuning accuracy:\",accuracy_score(y_test, knn_pred))"
      ],
      "execution_count": null,
      "outputs": [
        {
          "output_type": "stream",
          "name": "stdout",
          "text": [
            "K-nearest neighbours after tuning accuracy: 0.18590626957462558\n"
          ]
        }
      ]
    },
    {
      "cell_type": "code",
      "metadata": {
        "colab": {
          "base_uri": "https://localhost:8080/"
        },
        "id": "Z2DUNFMOGG_V",
        "outputId": "c87c7d00-8148-4217-b74c-a7c51019cd29"
      },
      "source": [
        "print (classification_report(y_test,knnModified_pred))"
      ],
      "execution_count": null,
      "outputs": [
        {
          "output_type": "stream",
          "name": "stderr",
          "text": [
            "/usr/local/lib/python3.7/dist-packages/sklearn/metrics/_classification.py:1272: UndefinedMetricWarning: Precision and F-score are ill-defined and being set to 0.0 in labels with no predicted samples. Use `zero_division` parameter to control this behavior.\n",
            "  _warn_prf(average, modifier, msg_start, len(result))\n"
          ]
        },
        {
          "output_type": "stream",
          "name": "stdout",
          "text": [
            "              precision    recall  f1-score   support\n",
            "\n",
            "           0       0.00      0.00      0.00       309\n",
            "           1       0.13      0.17      0.15     15501\n",
            "           2       0.00      0.00      0.00        83\n",
            "           3       0.00      0.00      0.00        65\n",
            "           4       0.08      0.04      0.06      7286\n",
            "           5       0.07      0.02      0.03       863\n",
            "           6       0.00      0.00      0.00       430\n",
            "           7       0.22      0.34      0.27     10751\n",
            "           8       0.03      0.00      0.00       829\n",
            "           9       0.00      0.00      0.00       229\n",
            "          10       0.00      0.00      0.00        55\n",
            "          11       0.00      0.00      0.00       101\n",
            "          12       0.07      0.02      0.03      2038\n",
            "          13       0.07      0.02      0.03      3315\n",
            "          14       0.00      0.00      0.00        40\n",
            "          15       0.05      0.00      0.00       457\n",
            "          16       0.28      0.54      0.37     34947\n",
            "          17       0.20      0.02      0.04       408\n",
            "          18       0.20      0.03      0.06       243\n",
            "          19       0.13      0.08      0.10      5109\n",
            "          20       0.15      0.12      0.13     18342\n",
            "          21       0.20      0.25      0.22     25574\n",
            "          22       0.00      0.00      0.00         5\n",
            "          23       0.28      0.34      0.31      1469\n",
            "          24       0.00      0.00      0.00       639\n",
            "          25       0.07      0.01      0.02      4665\n",
            "          26       0.08      0.00      0.01       381\n",
            "          27       0.06      0.00      0.00      2017\n",
            "          28       0.03      0.00      0.00       883\n",
            "          29       0.00      0.00      0.00        28\n",
            "          30       0.00      0.00      0.00       906\n",
            "          31       0.00      0.00      0.00       115\n",
            "          32       0.05      0.01      0.01      6237\n",
            "          33       0.00      0.00      0.00         1\n",
            "          34       0.12      0.01      0.02      1483\n",
            "          35       0.11      0.03      0.04      9005\n",
            "          36       0.22      0.16      0.19     10689\n",
            "          37       0.10      0.02      0.04      8380\n",
            "          38       0.05      0.00      0.01      1732\n",
            "\n",
            "    accuracy                           0.21    175610\n",
            "   macro avg       0.08      0.06      0.05    175610\n",
            "weighted avg       0.17      0.21      0.17    175610\n",
            "\n"
          ]
        }
      ]
    },
    {
      "cell_type": "code",
      "metadata": {
        "colab": {
          "base_uri": "https://localhost:8080/"
        },
        "id": "5sZHdNmqA6yd",
        "outputId": "7415e03b-a2be-4789-b97a-a3157fed7a44"
      },
      "source": [
        "print(\"Random forest classification after tuning accuracy:\",accuracy_score(y_test, rfc_pred))"
      ],
      "execution_count": null,
      "outputs": [
        {
          "output_type": "stream",
          "name": "stdout",
          "text": [
            "Random forest classification after tuning accuracy: 0.2527817322475941\n"
          ]
        }
      ]
    },
    {
      "cell_type": "code",
      "metadata": {
        "colab": {
          "base_uri": "https://localhost:8080/"
        },
        "id": "O-v9uAADGNhs",
        "outputId": "2591981b-c3dc-4688-ac10-7eccab381ec8"
      },
      "source": [
        "print (classification_report(y_test,rfcModified_pred))"
      ],
      "execution_count": null,
      "outputs": [
        {
          "output_type": "stream",
          "name": "stderr",
          "text": [
            "/usr/local/lib/python3.7/dist-packages/sklearn/metrics/_classification.py:1272: UndefinedMetricWarning: Precision and F-score are ill-defined and being set to 0.0 in labels with no predicted samples. Use `zero_division` parameter to control this behavior.\n",
            "  _warn_prf(average, modifier, msg_start, len(result))\n"
          ]
        },
        {
          "output_type": "stream",
          "name": "stdout",
          "text": [
            "              precision    recall  f1-score   support\n",
            "\n",
            "           0       0.00      0.00      0.00       309\n",
            "           1       0.28      0.00      0.01     15501\n",
            "           2       0.00      0.00      0.00        83\n",
            "           3       0.00      0.00      0.00        65\n",
            "           4       0.00      0.00      0.00      7286\n",
            "           5       0.00      0.00      0.00       863\n",
            "           6       0.00      0.00      0.00       430\n",
            "           7       0.28      0.35      0.31     10751\n",
            "           8       0.00      0.00      0.00       829\n",
            "           9       0.00      0.00      0.00       229\n",
            "          10       0.00      0.00      0.00        55\n",
            "          11       0.00      0.00      0.00       101\n",
            "          12       0.00      0.00      0.00      2038\n",
            "          13       0.00      0.00      0.00      3315\n",
            "          14       0.00      0.00      0.00        40\n",
            "          15       0.00      0.00      0.00       457\n",
            "          16       0.27      0.82      0.40     34947\n",
            "          17       0.00      0.00      0.00       408\n",
            "          18       0.00      0.00      0.00       243\n",
            "          19       0.76      0.08      0.15      5109\n",
            "          20       0.33      0.03      0.06     18342\n",
            "          21       0.20      0.37      0.26     25574\n",
            "          22       0.00      0.00      0.00         5\n",
            "          23       0.63      0.12      0.19      1469\n",
            "          24       0.00      0.00      0.00       639\n",
            "          25       0.00      0.00      0.00      4665\n",
            "          26       0.00      0.00      0.00       381\n",
            "          27       0.00      0.00      0.00      2017\n",
            "          28       0.00      0.00      0.00       883\n",
            "          29       0.00      0.00      0.00        28\n",
            "          30       0.00      0.00      0.00       906\n",
            "          31       0.00      0.00      0.00       115\n",
            "          32       0.00      0.00      0.00      6237\n",
            "          33       0.00      0.00      0.00         1\n",
            "          34       0.00      0.00      0.00      1483\n",
            "          35       0.00      0.00      0.00      9005\n",
            "          36       0.23      0.16      0.19     10689\n",
            "          37       0.00      0.00      0.00      8380\n",
            "          38       0.00      0.00      0.00      1732\n",
            "\n",
            "    accuracy                           0.25    175610\n",
            "   macro avg       0.08      0.05      0.04    175610\n",
            "weighted avg       0.20      0.25      0.16    175610\n",
            "\n"
          ]
        }
      ]
    },
    {
      "cell_type": "code",
      "metadata": {
        "id": "WnHxi1JDLNNe"
      },
      "source": [
        ""
      ],
      "execution_count": null,
      "outputs": []
    }
  ]
}